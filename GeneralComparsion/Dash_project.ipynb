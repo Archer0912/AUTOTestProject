{
 "cells": [
  {
   "cell_type": "code",
   "execution_count": 3,
   "metadata": {},
   "outputs": [
    {
     "ename": "ModuleNotFoundError",
     "evalue": "No module named 'dash'",
     "output_type": "error",
     "traceback": [
      "\u001b[1;31m---------------------------------------------------------------------------\u001b[0m",
      "\u001b[1;31mModuleNotFoundError\u001b[0m                       Traceback (most recent call last)",
      "\u001b[1;32m<ipython-input-3-aefa37805d8f>\u001b[0m in \u001b[0;36m<module>\u001b[1;34m()\u001b[0m\n\u001b[0;32m      1\u001b[0m \u001b[1;32mimport\u001b[0m \u001b[0mpandas\u001b[0m \u001b[1;32mas\u001b[0m \u001b[0mpd\u001b[0m\u001b[1;33m\u001b[0m\u001b[0m\n\u001b[0;32m      2\u001b[0m \u001b[1;32mimport\u001b[0m \u001b[0mplotly\u001b[0m\u001b[1;33m.\u001b[0m\u001b[0mgraph_objs\u001b[0m \u001b[1;32mas\u001b[0m \u001b[0mgo\u001b[0m\u001b[1;33m\u001b[0m\u001b[0m\n\u001b[1;32m----> 3\u001b[1;33m \u001b[1;32mimport\u001b[0m \u001b[0mdash\u001b[0m\u001b[1;33m\u001b[0m\u001b[0m\n\u001b[0m\u001b[0;32m      4\u001b[0m \u001b[1;32mimport\u001b[0m \u001b[0mdash_core_components\u001b[0m \u001b[1;32mas\u001b[0m \u001b[0mdcc\u001b[0m                  \u001b[1;31m# 交互式组件\u001b[0m\u001b[1;33m\u001b[0m\u001b[0m\n\u001b[0;32m      5\u001b[0m \u001b[1;32mimport\u001b[0m \u001b[0mdash_html_components\u001b[0m \u001b[1;32mas\u001b[0m \u001b[0mhtml\u001b[0m                 \u001b[1;31m# 代码转html\u001b[0m\u001b[1;33m\u001b[0m\u001b[0m\n",
      "\u001b[1;31mModuleNotFoundError\u001b[0m: No module named 'dash'"
     ]
    }
   ],
   "source": [
    "import pandas as pd\n",
    "import plotly.graph_objs as go\n",
    "import dash\n",
    "import dash_core_components as dcc                  # 交互式组件\n",
    "import dash_html_components as html                 # 代码转html\n",
    "from dash.dependencies import Input, Output         # 回调\n",
    "from jupyter_plotly_dash import JupyterDash         # Jupyter中的Dash"
   ]
  },
  {
   "cell_type": "code",
   "execution_count": 49,
   "metadata": {},
   "outputs": [],
   "source": [
    "btd_data = pd.read_csv(\"btdsim_gummel_pmos_btdsim6_ids_vg0_data.csv\", skiprows=1, names=['vd','ids'])\n",
    "\n",
    "spec_data = pd.read_csv(\"spectre_gummel_pmos_btdsim6_ids_vg0_data.csv\", skiprows=1, names=['vd','ids'])\n",
    "\n",
    "# def General Comparison Utility\n",
    "x_data = [d * 1e7 for d in btd_data['ids'].values.tolist()]\n",
    "y_data = [d *1e7 for d in spec_data['ids'].values.tolist()]"
   ]
  },
  {
   "cell_type": "code",
   "execution_count": 50,
   "metadata": {},
   "outputs": [],
   "source": [
    "AE_threshold = 1\n",
    "RE_threshold = 0.5\n",
    "x = x_data\n",
    "AE_line1 = [i+AE_threshold for i in x_data]\n",
    "AE_line2 = [i-AE_threshold for i in x_data]\n",
    "RE_line1 = [i*(1-RE_threshold) for i in x_data]\n",
    "RE_line2 = [i*(1+RE_threshold) for i in x_data]"
   ]
  },
  {
   "cell_type": "code",
   "execution_count": null,
   "metadata": {},
   "outputs": [],
   "source": []
  },
  {
   "cell_type": "code",
   "execution_count": 51,
   "metadata": {},
   "outputs": [],
   "source": [
    "app = JupyterDash('Hello Dash', )\n",
    "app.layout = html.Div(\n",
    "    children = [\n",
    "        html.H1('wayne，Dash'),\n",
    "        html.Div('''Dash: General Comparison Utility'''),\n",
    "        dcc.Graph(\n",
    "            id='example-graph',\n",
    "            figure = dict(\n",
    "                data = [{'x': x, 'y': x, 'type': 'lines', 'name': 'y=x'},\n",
    "                        {'x': x, 'y': AE_line1, 'type': 'lines', 'name': '+AE'},\n",
    "                        {'x': x, 'y': AE_line2, 'type': 'lines', 'name': '-AE'},\n",
    "                        {'x': x, 'y': RE_line1, 'type': 'lines', 'name': '-RE'},\n",
    "                        {'x': x, 'y': RE_line2, 'type': 'lines', 'name': '+RE'},\n",
    "                        go.Scatter(\n",
    "                            x=x_data,\n",
    "                            y=y_data,\n",
    "                            mode = 'markers',\n",
    "                            name='data',\n",
    "\n",
    "                        )\n",
    "                       ],\n",
    "                layout = dict(title = 'Dash数据可视化')\n",
    "            )\n",
    "        )\n",
    "    ]\n",
    ")\n"
   ]
  },
  {
   "cell_type": "code",
   "execution_count": 52,
   "metadata": {},
   "outputs": [
    {
     "data": {
      "text/html": [
       "<div>\n",
       "  <iframe src=\"/app/endpoints/0af73e44ca234e438583b2d579fd5b7b/\" width=800 height=600 frameborder=\"0\"></iframe>\n",
       "  <hr/><a href=\"/app/endpoints/0af73e44ca234e438583b2d579fd5b7b/\" target=\"_new\">Open in new window</a> for /app/endpoints/0af73e44ca234e438583b2d579fd5b7b/\n",
       "</div>"
      ],
      "text/plain": [
       "<jupyter_plotly_dash.dash_wrapper.JupyterDash at 0x12adbda9730>"
      ]
     },
     "execution_count": 52,
     "metadata": {},
     "output_type": "execute_result"
    }
   ],
   "source": [
    "app"
   ]
  },
  {
   "cell_type": "code",
   "execution_count": 18,
   "metadata": {},
   "outputs": [
    {
     "data": {
      "text/html": [
       "<div>\n",
       "  <iframe src=\"/app/endpoints/d30090c81f9f4da0a5c23c02952b6118/\" width=800 height=600 frameborder=\"0\"></iframe>\n",
       "  <hr/><a href=\"/app/endpoints/d30090c81f9f4da0a5c23c02952b6118/\" target=\"_new\">Open in new window</a> for /app/endpoints/d30090c81f9f4da0a5c23c02952b6118/\n",
       "</div>"
      ],
      "text/plain": [
       "<jupyter_plotly_dash.dash_wrapper.JupyterDash at 0x12adbb81a00>"
      ]
     },
     "execution_count": 18,
     "metadata": {},
     "output_type": "execute_result"
    }
   ],
   "source": [
    "app = JupyterDash('Hello Dash', )\n",
    "app.layout = html.Div(\n",
    "    children = [\n",
    "        html.H1('wayne，Dash'),\n",
    "        html.Div('''Dash: General Comparison Utility'''),\n",
    "        dcc.Graph(\n",
    "            id='example-graph',\n",
    "            figure = dict(\n",
    "                data = [{'x': x, 'y':x, 'type': 'lines', 'name': 'AE'}\n",
    "#                         {'x': x, 'y': AE_line1, 'type': 'lines', 'name': 'RE'}],\n",
    "                       ],\n",
    "                layout = dict(title = 'General Comparison Utility')\n",
    "            )\n",
    "        )\n",
    "    ]\n",
    ")\n",
    "\n",
    "app"
   ]
  },
  {
   "cell_type": "code",
   "execution_count": null,
   "metadata": {},
   "outputs": [],
   "source": []
  }
 ],
 "metadata": {
  "kernelspec": {
   "display_name": "Python 3",
   "language": "python",
   "name": "python3"
  },
  "language_info": {
   "codemirror_mode": {
    "name": "ipython",
    "version": 3
   },
   "file_extension": ".py",
   "mimetype": "text/x-python",
   "name": "python",
   "nbconvert_exporter": "python",
   "pygments_lexer": "ipython3",
   "version": "3.6.5"
  }
 },
 "nbformat": 4,
 "nbformat_minor": 4
}
