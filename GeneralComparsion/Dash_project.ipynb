{
 "cells": [
  {
   "cell_type": "code",
   "execution_count": 1,
   "metadata": {},
   "outputs": [],
   "source": [
    "import pandas as pd\n",
    "import plotly.graph_objs as go\n",
    "import dash\n",
    "import dash_core_components as dcc                  # 交互式组件\n",
    "import dash_html_components as html                 # 代码转html\n",
    "from dash.dependencies import Input, Output         # 回调\n",
    "from jupyter_plotly_dash import JupyterDash         # Jupyter中的Dash"
   ]
  },
  {
   "cell_type": "code",
   "execution_count": 2,
   "metadata": {},
   "outputs": [],
   "source": [
    "btd_data = pd.read_csv(\"btdsim_gummel_pmos_btdsim6_ids_vg0_data.csv\", skiprows=1, names=['vd','ids'])\n",
    "\n",
    "spec_data = pd.read_csv(\"spectre_gummel_pmos_btdsim6_ids_vg0_data.csv\", skiprows=1, names=['vd','ids'])\n",
    "\n",
    "# def General Comparison Utility\n",
    "x_data = [d * 1e7 for d in btd_data['ids'].values.tolist()]\n",
    "y_data = [d *1e7 for d in spec_data['ids'].values.tolist()]"
   ]
  },
  {
   "cell_type": "code",
   "execution_count": 3,
   "metadata": {},
   "outputs": [],
   "source": [
    "AE_threshold = 1\n",
    "RE_threshold = 0.5\n",
    "x = x_data\n",
    "AE_line1 = [i+AE_threshold for i in x_data]\n",
    "AE_line2 = [i-AE_threshold for i in x_data]\n",
    "RE_line1 = [i*(1-RE_threshold) for i in x_data]\n",
    "RE_line2 = [i*(1+RE_threshold) for i in x_data]"
   ]
  },
  {
   "cell_type": "code",
   "execution_count": null,
   "metadata": {},
   "outputs": [],
   "source": []
  },
  {
   "cell_type": "code",
   "execution_count": 4,
   "metadata": {},
   "outputs": [],
   "source": [
    "app = JupyterDash('Hello Dash', )\n",
    "app.layout = html.Div(\n",
    "    children = [\n",
    "        html.H1('wayne，Dash'),\n",
    "        html.Div('''Dash: General Comparison Utility'''),\n",
    "        dcc.Graph(\n",
    "            id='example-graph',\n",
    "            figure = dict(\n",
    "                data = [{'x': x, 'y': x, 'type': 'lines', 'name': 'y=x'},\n",
    "                        {'x': x, 'y': AE_line1, 'type': 'lines', 'name': '+AE'},\n",
    "                        {'x': x, 'y': AE_line2, 'type': 'lines', 'name': '-AE'},\n",
    "                        {'x': x, 'y': RE_line1, 'type': 'lines', 'name': '-RE'},\n",
    "                        {'x': x, 'y': RE_line2, 'type': 'lines', 'name': '+RE'},\n",
    "                        go.Scatter(\n",
    "                            x=x_data,\n",
    "                            y=y_data,\n",
    "                            mode = 'markers',\n",
    "                            name='data',\n",
    "\n",
    "                        )\n",
    "                       ],\n",
    "                layout = dict(title = 'Dash数据可视化')\n",
    "            )\n",
    "        )\n",
    "    ]\n",
    ")\n"
   ]
  },
  {
   "cell_type": "code",
   "execution_count": 5,
   "metadata": {},
   "outputs": [
    {
     "data": {
      "text/html": [
       "<div>\n",
       "  <iframe src=\"/app/endpoints/5b31c40919034d7db70d06f2ca12a5a1/\" width=800 height=600 frameborder=\"0\"></iframe>\n",
       "  <hr/><a href=\"/app/endpoints/5b31c40919034d7db70d06f2ca12a5a1/\" target=\"_new\">Open in new window</a> for /app/endpoints/5b31c40919034d7db70d06f2ca12a5a1/\n",
       "</div>"
      ],
      "text/plain": [
       "<jupyter_plotly_dash.dash_wrapper.JupyterDash at 0x1a809ddb940>"
      ]
     },
     "execution_count": 5,
     "metadata": {},
     "output_type": "execute_result"
    }
   ],
   "source": []
  },
  {
   "cell_type": "code",
   "execution_count": 6,
   "metadata": {},
   "outputs": [
    {
     "data": {
      "text/html": [
       "<div>\n",
       "  <iframe src=\"/app/endpoints/f8bf3c286b134139bd15252bfd96ab89/\" width=800 height=600 frameborder=\"0\"></iframe>\n",
       "  <hr/><a href=\"/app/endpoints/f8bf3c286b134139bd15252bfd96ab89/\" target=\"_new\">Open in new window</a> for /app/endpoints/f8bf3c286b134139bd15252bfd96ab89/\n",
       "</div>"
      ],
      "text/plain": [
       "<jupyter_plotly_dash.dash_wrapper.JupyterDash at 0x1a80a09dac0>"
      ]
     },
     "execution_count": 6,
     "metadata": {},
     "output_type": "execute_result"
    }
   ],
   "source": [
    "app = JupyterDash('Hello Dash', )\n",
    "app.layout = html.Div(\n",
    "    children = [\n",
    "        html.H1('wayne，Dash'),\n",
    "        html.Div('''Dash: General Comparison Utility'''),\n",
    "        dcc.Graph(\n",
    "            id='example-graph',\n",
    "            figure = dict(\n",
    "                data = [{'x': x, 'y':x, 'type': 'lines', 'name': 'AE'}\n",
    "#                         {'x': x, 'y': AE_line1, 'type': 'lines', 'name': 'RE'}],\n",
    "                       ],\n",
    "                layout = dict(title = 'General Comparison Utility')\n",
    "            )\n",
    "        )\n",
    "    ]\n",
    ")\n",
    "\n",
    "app"
   ]
  },
  {
   "cell_type": "code",
   "execution_count": 7,
   "metadata": {},
   "outputs": [
    {
     "ename": "AttributeError",
     "evalue": "'JupyterDash' object has no attribute 'run_server'",
     "output_type": "error",
     "traceback": [
      "\u001b[1;31m---------------------------------------------------------------------------\u001b[0m",
      "\u001b[1;31mAttributeError\u001b[0m                            Traceback (most recent call last)",
      "\u001b[1;32m<ipython-input-7-655b53d70f08>\u001b[0m in \u001b[0;36m<module>\u001b[1;34m\u001b[0m\n\u001b[1;32m----> 1\u001b[1;33m \u001b[0mapp\u001b[0m\u001b[1;33m.\u001b[0m\u001b[0mrun_server\u001b[0m\u001b[1;33m(\u001b[0m\u001b[0mdebug\u001b[0m\u001b[1;33m=\u001b[0m\u001b[1;32mTrue\u001b[0m\u001b[1;33m,\u001b[0m \u001b[0mthreaded\u001b[0m\u001b[1;33m=\u001b[0m\u001b[1;32mTrue\u001b[0m\u001b[1;33m,\u001b[0m \u001b[0mport\u001b[0m\u001b[1;33m=\u001b[0m\u001b[1;36m7777\u001b[0m\u001b[1;33m)\u001b[0m\u001b[1;33m\u001b[0m\u001b[1;33m\u001b[0m\u001b[0m\n\u001b[0m",
      "\u001b[1;31mAttributeError\u001b[0m: 'JupyterDash' object has no attribute 'run_server'"
     ]
    }
   ],
   "source": [
    "app.run_server(debug=True, threaded=True, port=7777)"
   ]
  },
  {
   "cell_type": "code",
   "execution_count": null,
   "metadata": {},
   "outputs": [],
   "source": []
  }
 ],
 "metadata": {
  "kernelspec": {
   "display_name": "Python 3",
   "language": "python",
   "name": "python3"
  },
  "language_info": {
   "codemirror_mode": {
    "name": "ipython",
    "version": 3
   },
   "file_extension": ".py",
   "mimetype": "text/x-python",
   "name": "python",
   "nbconvert_exporter": "python",
   "pygments_lexer": "ipython3",
   "version": "3.8.5"
  }
 },
 "nbformat": 4,
 "nbformat_minor": 4
}
